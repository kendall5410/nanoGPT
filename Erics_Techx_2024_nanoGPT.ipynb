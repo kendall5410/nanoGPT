{
  "nbformat": 4,
  "nbformat_minor": 0,
  "metadata": {
    "colab": {
      "provenance": [],
      "authorship_tag": "ABX9TyMj0go2s7q/94Vfa4wp2oVu",
      "include_colab_link": true
    },
    "kernelspec": {
      "name": "python3",
      "display_name": "Python 3"
    },
    "language_info": {
      "name": "python"
    }
  },
  "cells": [
    {
      "cell_type": "markdown",
      "metadata": {
        "id": "view-in-github",
        "colab_type": "text"
      },
      "source": [
        "<a href=\"https://colab.research.google.com/github/kendall5410/nanoGPT/blob/main/Erics_Techx_2024_nanoGPT.ipynb\" target=\"_parent\"><img src=\"https://colab.research.google.com/assets/colab-badge.svg\" alt=\"Open In Colab\"/></a>"
      ]
    },
    {
      "cell_type": "code",
      "execution_count": 1,
      "metadata": {
        "colab": {
          "base_uri": "https://localhost:8080/"
        },
        "id": "JEFdjm0bm6od",
        "outputId": "fa18240c-68f2-4cb3-c150-73199dec4d76"
      },
      "outputs": [
        {
          "output_type": "stream",
          "name": "stdout",
          "text": [
            "Hello Tech exchange\n"
          ]
        }
      ],
      "source": [
        "print(\"Hello Tech exchange\")"
      ]
    },
    {
      "cell_type": "markdown",
      "source": [
        "get the data\n"
      ],
      "metadata": {
        "id": "vUPCsdjMogwJ"
      }
    },
    {
      "cell_type": "code",
      "source": [
        "!wget http://gir.fyi/techx/input.txt"
      ],
      "metadata": {
        "colab": {
          "base_uri": "https://localhost:8080/"
        },
        "id": "1xKOB1fsoxPC",
        "outputId": "83f94230-2ce8-4015-efcf-d96f3e0e1b66"
      },
      "execution_count": 2,
      "outputs": [
        {
          "output_type": "stream",
          "name": "stdout",
          "text": [
            "--2024-05-15 19:03:20--  http://gir.fyi/techx/input.txt\n",
            "Resolving gir.fyi (gir.fyi)... 216.239.34.21, 216.239.32.21, 216.239.38.21, ...\n",
            "Connecting to gir.fyi (gir.fyi)|216.239.34.21|:80... connected.\n",
            "HTTP request sent, awaiting response... 302 Found\n",
            "Location: https://raw.githubusercontent.com/karpathy/char-rnn/master/data/tinyshakespeare/input.txt [following]\n",
            "--2024-05-15 19:03:21--  https://raw.githubusercontent.com/karpathy/char-rnn/master/data/tinyshakespeare/input.txt\n",
            "Resolving raw.githubusercontent.com (raw.githubusercontent.com)... 185.199.108.133, 185.199.109.133, 185.199.110.133, ...\n",
            "Connecting to raw.githubusercontent.com (raw.githubusercontent.com)|185.199.108.133|:443... connected.\n",
            "HTTP request sent, awaiting response... 200 OK\n",
            "Length: 1115394 (1.1M) [text/plain]\n",
            "Saving to: ‘input.txt’\n",
            "\n",
            "\rinput.txt             0%[                    ]       0  --.-KB/s               \rinput.txt           100%[===================>]   1.06M  --.-KB/s    in 0.007s  \n",
            "\n",
            "2024-05-15 19:03:21 (150 MB/s) - ‘input.txt’ saved [1115394/1115394]\n",
            "\n"
          ]
        }
      ]
    },
    {
      "cell_type": "code",
      "source": [
        "with open('input.txt','r', encoding='utf-8') as f:\n",
        "  raw_training_data = f.read()\n",
        "print(len(raw_training_data))"
      ],
      "metadata": {
        "colab": {
          "base_uri": "https://localhost:8080/"
        },
        "id": "NjvuoB8Ho35Q",
        "outputId": "46ff026f-0cbb-487e-d8a8-140344b41182"
      },
      "execution_count": 3,
      "outputs": [
        {
          "output_type": "stream",
          "name": "stdout",
          "text": [
            "1115394\n"
          ]
        }
      ]
    },
    {
      "cell_type": "code",
      "source": [
        "len(set(raw_training_data))"
      ],
      "metadata": {
        "colab": {
          "base_uri": "https://localhost:8080/"
        },
        "id": "QjedM_c9pPvB",
        "outputId": "42e131ef-9baf-425d-86eb-afd6f9e6cae9"
      },
      "execution_count": 4,
      "outputs": [
        {
          "output_type": "execute_result",
          "data": {
            "text/plain": [
              "65"
            ]
          },
          "metadata": {},
          "execution_count": 4
        }
      ]
    },
    {
      "cell_type": "code",
      "source": [
        "''.join(sorted(set(raw_training_data)))"
      ],
      "metadata": {
        "colab": {
          "base_uri": "https://localhost:8080/",
          "height": 35
        },
        "id": "52-QHIKEpg9M",
        "outputId": "b9b2f0e7-e047-457d-b09a-d6a958f9e0c7"
      },
      "execution_count": 5,
      "outputs": [
        {
          "output_type": "execute_result",
          "data": {
            "text/plain": [
              "\"\\n !$&',-.3:;?ABCDEFGHIJKLMNOPQRSTUVWXYZabcdefghijklmnopqrstuvwxyz\""
            ],
            "application/vnd.google.colaboratory.intrinsic+json": {
              "type": "string"
            }
          },
          "metadata": {},
          "execution_count": 5
        }
      ]
    },
    {
      "cell_type": "code",
      "source": [
        "from collections import defaultdict\n",
        "\n",
        "freqs = defaultdict(int)\n",
        "\n",
        "for letter in raw_training_data:\n",
        "  freqs[letter] += 1\n",
        "\n",
        "freqs"
      ],
      "metadata": {
        "colab": {
          "base_uri": "https://localhost:8080/"
        },
        "id": "6bJuYxkCp2Re",
        "outputId": "b586e189-c58f-400c-8b47-f58c4f0e079f"
      },
      "execution_count": 7,
      "outputs": [
        {
          "output_type": "execute_result",
          "data": {
            "text/plain": [
              "defaultdict(int,\n",
              "            {'F': 1797,\n",
              "             'i': 45537,\n",
              "             'r': 48889,\n",
              "             's': 49696,\n",
              "             't': 67009,\n",
              "             ' ': 169892,\n",
              "             'C': 3820,\n",
              "             'z': 356,\n",
              "             'e': 94611,\n",
              "             'n': 48529,\n",
              "             ':': 10316,\n",
              "             '\\n': 40000,\n",
              "             'B': 2761,\n",
              "             'f': 15770,\n",
              "             'o': 65798,\n",
              "             'w': 17585,\n",
              "             'p': 10808,\n",
              "             'c': 15623,\n",
              "             'd': 31358,\n",
              "             'a': 55507,\n",
              "             'y': 20448,\n",
              "             'u': 26584,\n",
              "             'h': 51310,\n",
              "             ',': 19846,\n",
              "             'm': 22243,\n",
              "             'k': 7088,\n",
              "             '.': 7885,\n",
              "             'A': 7819,\n",
              "             'l': 33339,\n",
              "             'S': 4523,\n",
              "             'Y': 1718,\n",
              "             'v': 7793,\n",
              "             '?': 2462,\n",
              "             'R': 4869,\n",
              "             'M': 2840,\n",
              "             'W': 3530,\n",
              "             \"'\": 6187,\n",
              "             'L': 3876,\n",
              "             'I': 11832,\n",
              "             'N': 5079,\n",
              "             'g': 13356,\n",
              "             ';': 3628,\n",
              "             'b': 11321,\n",
              "             '!': 2172,\n",
              "             'O': 5481,\n",
              "             'j': 628,\n",
              "             'V': 798,\n",
              "             '-': 1897,\n",
              "             'T': 7015,\n",
              "             'H': 3068,\n",
              "             'E': 6041,\n",
              "             'U': 3313,\n",
              "             'D': 2089,\n",
              "             'P': 1641,\n",
              "             'q': 609,\n",
              "             'x': 529,\n",
              "             'J': 320,\n",
              "             'G': 2399,\n",
              "             'K': 1584,\n",
              "             'Q': 231,\n",
              "             '&': 3,\n",
              "             'Z': 198,\n",
              "             'X': 112,\n",
              "             '3': 27,\n",
              "             '$': 1})"
            ]
          },
          "metadata": {},
          "execution_count": 7
        }
      ]
    },
    {
      "cell_type": "code",
      "source": [
        "import random\n",
        "\n",
        "SAMPLE_SIZE = 500\n",
        "training_data_size = len(raw_training_data)\n",
        "start = random.randrange(0, training_data_size - SAMPLE_SIZE)\n",
        "print(raw_training_data[start:start+SAMPLE_SIZE])"
      ],
      "metadata": {
        "colab": {
          "base_uri": "https://localhost:8080/"
        },
        "id": "VuwEq6IjqmLW",
        "outputId": "e14d966e-7563-409f-aa64-440103ed5666"
      },
      "execution_count": 10,
      "outputs": [
        {
          "output_type": "stream",
          "name": "stdout",
          "text": [
            ":\n",
            "Nay, it is ten times true; for truth is truth\n",
            "To the end of reckoning.\n",
            "\n",
            "DUKE VINCENTIO:\n",
            "Away with her! Poor soul,\n",
            "She speaks this in the infirmity of sense.\n",
            "\n",
            "ISABELLA:\n",
            "O prince, I conjure thee, as thou believest\n",
            "There is another comfort than this world,\n",
            "That thou neglect me not, with that opinion\n",
            "That I am touch'd with madness! Make not impossible\n",
            "That which but seems unlike: 'tis not impossible\n",
            "But one, the wicked'st caitiff on the ground,\n",
            "May seem as shy, as grave, as just, as absolute\n",
            "As An\n"
          ]
        }
      ]
    },
    {
      "cell_type": "markdown",
      "source": [
        "Data Preparation"
      ],
      "metadata": {
        "id": "wD7OFGNXsHmz"
      }
    },
    {
      "cell_type": "code",
      "source": [
        "tokens = ''.join(sorted(set(raw_training_data)))\n",
        "token_to_number = {t: i for i, t in enumerate(tokens)}\n",
        "token_to_number"
      ],
      "metadata": {
        "colab": {
          "base_uri": "https://localhost:8080/"
        },
        "id": "BGfIhtuKuAlY",
        "outputId": "a3702ad9-1767-46a8-b39c-c38e2ed163a4"
      },
      "execution_count": 12,
      "outputs": [
        {
          "output_type": "execute_result",
          "data": {
            "text/plain": [
              "{'\\n': 0,\n",
              " ' ': 1,\n",
              " '!': 2,\n",
              " '$': 3,\n",
              " '&': 4,\n",
              " \"'\": 5,\n",
              " ',': 6,\n",
              " '-': 7,\n",
              " '.': 8,\n",
              " '3': 9,\n",
              " ':': 10,\n",
              " ';': 11,\n",
              " '?': 12,\n",
              " 'A': 13,\n",
              " 'B': 14,\n",
              " 'C': 15,\n",
              " 'D': 16,\n",
              " 'E': 17,\n",
              " 'F': 18,\n",
              " 'G': 19,\n",
              " 'H': 20,\n",
              " 'I': 21,\n",
              " 'J': 22,\n",
              " 'K': 23,\n",
              " 'L': 24,\n",
              " 'M': 25,\n",
              " 'N': 26,\n",
              " 'O': 27,\n",
              " 'P': 28,\n",
              " 'Q': 29,\n",
              " 'R': 30,\n",
              " 'S': 31,\n",
              " 'T': 32,\n",
              " 'U': 33,\n",
              " 'V': 34,\n",
              " 'W': 35,\n",
              " 'X': 36,\n",
              " 'Y': 37,\n",
              " 'Z': 38,\n",
              " 'a': 39,\n",
              " 'b': 40,\n",
              " 'c': 41,\n",
              " 'd': 42,\n",
              " 'e': 43,\n",
              " 'f': 44,\n",
              " 'g': 45,\n",
              " 'h': 46,\n",
              " 'i': 47,\n",
              " 'j': 48,\n",
              " 'k': 49,\n",
              " 'l': 50,\n",
              " 'm': 51,\n",
              " 'n': 52,\n",
              " 'o': 53,\n",
              " 'p': 54,\n",
              " 'q': 55,\n",
              " 'r': 56,\n",
              " 's': 57,\n",
              " 't': 58,\n",
              " 'u': 59,\n",
              " 'v': 60,\n",
              " 'w': 61,\n",
              " 'x': 62,\n",
              " 'y': 63,\n",
              " 'z': 64}"
            ]
          },
          "metadata": {},
          "execution_count": 12
        }
      ]
    },
    {
      "cell_type": "code",
      "source": [
        "number_to_token = {i: t for i, t in enumerate(tokens)} #mapping each token to its corresponding token\n",
        "number_to_token"
      ],
      "metadata": {
        "colab": {
          "base_uri": "https://localhost:8080/"
        },
        "id": "N9B6mwuCuCYm",
        "outputId": "953273a4-6a1a-42f1-aa37-2e723606f2b9"
      },
      "execution_count": 15,
      "outputs": [
        {
          "output_type": "execute_result",
          "data": {
            "text/plain": [
              "{0: '\\n',\n",
              " 1: ' ',\n",
              " 2: '!',\n",
              " 3: '$',\n",
              " 4: '&',\n",
              " 5: \"'\",\n",
              " 6: ',',\n",
              " 7: '-',\n",
              " 8: '.',\n",
              " 9: '3',\n",
              " 10: ':',\n",
              " 11: ';',\n",
              " 12: '?',\n",
              " 13: 'A',\n",
              " 14: 'B',\n",
              " 15: 'C',\n",
              " 16: 'D',\n",
              " 17: 'E',\n",
              " 18: 'F',\n",
              " 19: 'G',\n",
              " 20: 'H',\n",
              " 21: 'I',\n",
              " 22: 'J',\n",
              " 23: 'K',\n",
              " 24: 'L',\n",
              " 25: 'M',\n",
              " 26: 'N',\n",
              " 27: 'O',\n",
              " 28: 'P',\n",
              " 29: 'Q',\n",
              " 30: 'R',\n",
              " 31: 'S',\n",
              " 32: 'T',\n",
              " 33: 'U',\n",
              " 34: 'V',\n",
              " 35: 'W',\n",
              " 36: 'X',\n",
              " 37: 'Y',\n",
              " 38: 'Z',\n",
              " 39: 'a',\n",
              " 40: 'b',\n",
              " 41: 'c',\n",
              " 42: 'd',\n",
              " 43: 'e',\n",
              " 44: 'f',\n",
              " 45: 'g',\n",
              " 46: 'h',\n",
              " 47: 'i',\n",
              " 48: 'j',\n",
              " 49: 'k',\n",
              " 50: 'l',\n",
              " 51: 'm',\n",
              " 52: 'n',\n",
              " 53: 'o',\n",
              " 54: 'p',\n",
              " 55: 'q',\n",
              " 56: 'r',\n",
              " 57: 's',\n",
              " 58: 't',\n",
              " 59: 'u',\n",
              " 60: 'v',\n",
              " 61: 'w',\n",
              " 62: 'x',\n",
              " 63: 'y',\n",
              " 64: 'z'}"
            ]
          },
          "metadata": {},
          "execution_count": 15
        }
      ]
    },
    {
      "cell_type": "code",
      "source": [
        "def encode(s):\n",
        "  return_value = []\n",
        "  for character in s:\n",
        "    return_value.append(token_to_number[character])\n",
        "  return return_value\n",
        "encode(\"Tech Exhange\")"
      ],
      "metadata": {
        "colab": {
          "base_uri": "https://localhost:8080/"
        },
        "id": "6VGvIoFTwVB8",
        "outputId": "907b4a23-27ad-43d3-c3a7-7b63ef2defa4"
      },
      "execution_count": 16,
      "outputs": [
        {
          "output_type": "execute_result",
          "data": {
            "text/plain": [
              "[32, 43, 41, 46, 1, 17, 62, 46, 39, 52, 45, 43]"
            ]
          },
          "metadata": {},
          "execution_count": 16
        }
      ]
    },
    {
      "cell_type": "code",
      "source": [
        "def decode(nums):\n",
        "  return ''.join([number_to_token[n] for n in nums ])\n",
        "decode(encode(\"Tech Exchange\"))"
      ],
      "metadata": {
        "colab": {
          "base_uri": "https://localhost:8080/",
          "height": 35
        },
        "id": "fZ_5rb0Xw1VI",
        "outputId": "8d6228a9-de24-4b76-fc70-9ae545332ad0"
      },
      "execution_count": 17,
      "outputs": [
        {
          "output_type": "execute_result",
          "data": {
            "text/plain": [
              "'Tech Exchange'"
            ],
            "application/vnd.google.colaboratory.intrinsic+json": {
              "type": "string"
            }
          },
          "metadata": {},
          "execution_count": 17
        }
      ]
    },
    {
      "cell_type": "code",
      "source": [
        "import torch\n",
        "\n",
        "data = torch.tensor(encode(raw_training_data), dtype=torch.long)\n",
        "data"
      ],
      "metadata": {
        "colab": {
          "base_uri": "https://localhost:8080/"
        },
        "id": "drZiaCHJxRUz",
        "outputId": "a43cf904-58d7-4815-cf5f-63b920be0afc"
      },
      "execution_count": 18,
      "outputs": [
        {
          "output_type": "execute_result",
          "data": {
            "text/plain": [
              "tensor([18, 47, 56,  ..., 45,  8,  0])"
            ]
          },
          "metadata": {},
          "execution_count": 18
        }
      ]
    },
    {
      "cell_type": "code",
      "source": [
        "holdout_size = int(0.1 * len(data))\n",
        "holdout_size"
      ],
      "metadata": {
        "colab": {
          "base_uri": "https://localhost:8080/"
        },
        "id": "xopSQOh1xjRo",
        "outputId": "bcfc15b9-8c42-488c-cb7b-ec54f6eeb06f"
      },
      "execution_count": 19,
      "outputs": [
        {
          "output_type": "execute_result",
          "data": {
            "text/plain": [
              "111539"
            ]
          },
          "metadata": {},
          "execution_count": 19
        }
      ]
    },
    {
      "cell_type": "code",
      "source": [
        "test_data = data[:holdout_size]\n",
        "training_data = data[holdout_size:]\n",
        "len(test_data), len(training_data)"
      ],
      "metadata": {
        "colab": {
          "base_uri": "https://localhost:8080/"
        },
        "id": "U-qkBqiOx6Ft",
        "outputId": "c8acbf2e-6117-4585-ba31-c2263ce91367"
      },
      "execution_count": 20,
      "outputs": [
        {
          "output_type": "execute_result",
          "data": {
            "text/plain": [
              "(111539, 1003855)"
            ]
          },
          "metadata": {},
          "execution_count": 20
        }
      ]
    },
    {
      "cell_type": "markdown",
      "source": [],
      "metadata": {
        "id": "TzOsirqRvrY7"
      }
    },
    {
      "cell_type": "code",
      "source": [
        "BLOCK_SIZE = 8\n",
        "training_data[:BLOCK_SIZE+1]"
      ],
      "metadata": {
        "colab": {
          "base_uri": "https://localhost:8080/"
        },
        "id": "DR0bIIvzyyhR",
        "outputId": "5665d79d-6c0b-497f-a8ee-57b587323fa1"
      },
      "execution_count": 22,
      "outputs": [
        {
          "output_type": "execute_result",
          "data": {
            "text/plain": [
              "tensor([43, 58,  6,  1, 25, 39, 56, 41, 47])"
            ]
          },
          "metadata": {},
          "execution_count": 22
        }
      ]
    },
    {
      "cell_type": "code",
      "source": [
        "start_from = random.randint(0, training_data_size-BLOCK_SIZE)\n",
        "decode(training_data[start_from:start_from+BLOCK_SIZE].tolist())\n",
        ""
      ],
      "metadata": {
        "colab": {
          "base_uri": "https://localhost:8080/",
          "height": 35
        },
        "id": "e_iVneR7y0o9",
        "outputId": "7f35a973-0f23-4dd6-cd90-938a89149161"
      },
      "execution_count": 90,
      "outputs": [
        {
          "output_type": "execute_result",
          "data": {
            "text/plain": [
              "' I have '"
            ],
            "application/vnd.google.colaboratory.intrinsic+json": {
              "type": "string"
            }
          },
          "metadata": {},
          "execution_count": 90
        }
      ]
    },
    {
      "cell_type": "code",
      "source": [
        "x = training_data[:BLOCK_SIZE]\n",
        "y = training_data[1:BLOCK_SIZE+1]\n",
        "for t in range(BLOCK_SIZE):\n",
        "  context = x[:t+1]\n",
        "  target = y[t]\n",
        "  print(f\"in: {context}, out: {target}\")"
      ],
      "metadata": {
        "colab": {
          "base_uri": "https://localhost:8080/"
        },
        "id": "Vn_FMOMFzq4L",
        "outputId": "38c2565e-9359-49ad-f764-fa7c79c69fc6"
      },
      "execution_count": 91,
      "outputs": [
        {
          "output_type": "stream",
          "name": "stdout",
          "text": [
            "in: tensor([43]), out: 58\n",
            "in: tensor([43, 58]), out: 6\n",
            "in: tensor([43, 58,  6]), out: 1\n",
            "in: tensor([43, 58,  6,  1]), out: 25\n",
            "in: tensor([43, 58,  6,  1, 25]), out: 39\n",
            "in: tensor([43, 58,  6,  1, 25, 39]), out: 56\n",
            "in: tensor([43, 58,  6,  1, 25, 39, 56]), out: 41\n",
            "in: tensor([43, 58,  6,  1, 25, 39, 56, 41]), out: 47\n"
          ]
        }
      ]
    },
    {
      "cell_type": "code",
      "source": [
        "torch.manual_seed(1337)\n",
        "\n",
        "BATCH_SIZE = 4"
      ],
      "metadata": {
        "id": "ClD9W-sE11mi"
      },
      "execution_count": 92,
      "outputs": []
    },
    {
      "cell_type": "code",
      "source": [
        "def get_batch(split):\n",
        "  data = training_data if split == 'train' else test_data\n",
        "  ix = torch.randint(len(data) - BLOCK_SIZE, (BATCH_SIZE,))\n",
        "  #print(ix)\n",
        "  x = torch.stack([data[i:i+BLOCK_SIZE] for i in ix])\n",
        "  y = torch.stack([data[i+1:i+BLOCK_SIZE+1] for i in ix])\n",
        "  return x, y\n",
        "\n",
        "get_batch('train')\n",
        ""
      ],
      "metadata": {
        "colab": {
          "base_uri": "https://localhost:8080/"
        },
        "id": "_Ds5cTSn2pxa",
        "outputId": "708249c0-34fb-4e84-dcc3-d929a17f985d"
      },
      "execution_count": 96,
      "outputs": [
        {
          "output_type": "execute_result",
          "data": {
            "text/plain": [
              "(tensor([[37, 53, 59,  1, 46, 39, 60, 43],\n",
              "         [ 1, 58, 46, 47, 57, 12,  0,  0],\n",
              "         [ 6,  1, 58, 46, 43, 52,  1, 13],\n",
              "         [47, 57,  1, 46, 43, 52, 41, 43]]),\n",
              " tensor([[53, 59,  1, 46, 39, 60, 43,  1],\n",
              "         [58, 46, 47, 57, 12,  0,  0, 28],\n",
              "         [ 1, 58, 46, 43, 52,  1, 13, 50],\n",
              "         [57,  1, 46, 43, 52, 41, 43, 12]]))"
            ]
          },
          "metadata": {},
          "execution_count": 96
        }
      ]
    },
    {
      "cell_type": "code",
      "source": [
        "xb, yb = get_batch('train')\n",
        "for b in range(BATCH_SIZE):\n",
        "  for t in range(BLOCK_SIZE):\n",
        "    context = xb[b, :t+1]\n",
        "    target = yb[b,t]\n",
        "    print(f'input {context.tolist()}, target {target}')"
      ],
      "metadata": {
        "colab": {
          "base_uri": "https://localhost:8080/"
        },
        "id": "AgpEWsl73obE",
        "outputId": "d1454bc0-8b80-4022-eaea-02c061efcb9b"
      },
      "execution_count": 97,
      "outputs": [
        {
          "output_type": "stream",
          "name": "stdout",
          "text": [
            "input [1], target 39\n",
            "input [1, 39], target 52\n",
            "input [1, 39, 52], target 1\n",
            "input [1, 39, 52, 1], target 43\n",
            "input [1, 39, 52, 1, 43], target 51\n",
            "input [1, 39, 52, 1, 43, 51], target 54\n",
            "input [1, 39, 52, 1, 43, 51, 54], target 58\n",
            "input [1, 39, 52, 1, 43, 51, 54, 58], target 63\n",
            "input [24], target 47\n",
            "input [24, 47], target 44\n",
            "input [24, 47, 44], target 43\n",
            "input [24, 47, 44, 43], target 1\n",
            "input [24, 47, 44, 43, 1], target 39\n",
            "input [24, 47, 44, 43, 1, 39], target 52\n",
            "input [24, 47, 44, 43, 1, 39, 52], target 42\n",
            "input [24, 47, 44, 43, 1, 39, 52, 42], target 1\n",
            "input [46], target 47\n",
            "input [46, 47], target 57\n",
            "input [46, 47, 57], target 6\n",
            "input [46, 47, 57, 6], target 1\n",
            "input [46, 47, 57, 6, 1], target 39\n",
            "input [46, 47, 57, 6, 1, 39], target 52\n",
            "input [46, 47, 57, 6, 1, 39, 52], target 42\n",
            "input [46, 47, 57, 6, 1, 39, 52, 42], target 1\n",
            "input [59], target 56\n",
            "input [59, 56], target 1\n",
            "input [59, 56, 1], target 50\n",
            "input [59, 56, 1, 50], target 43\n",
            "input [59, 56, 1, 50, 43], target 39\n",
            "input [59, 56, 1, 50, 43, 39], target 60\n",
            "input [59, 56, 1, 50, 43, 39, 60], target 43\n",
            "input [59, 56, 1, 50, 43, 39, 60, 43], target 10\n"
          ]
        }
      ]
    },
    {
      "cell_type": "code",
      "source": [
        "import torch\n",
        "import torch.nn as nn\n",
        "from torch.nn import functional as F"
      ],
      "metadata": {
        "id": "mPnEZnXy4ZHj"
      },
      "execution_count": 98,
      "outputs": []
    },
    {
      "cell_type": "code",
      "source": [
        "class BigramLanguageModel(nn.Module):\n",
        "\n",
        "  def __init__(self, vocab_size):\n",
        "    super().__init__()\n",
        "    self.token_embedding_table = nn.Embedding(vocab_size, vocab_size)\n",
        ""
      ],
      "metadata": {
        "id": "CVgV_UZV50hw"
      },
      "execution_count": 99,
      "outputs": []
    }
  ]
}